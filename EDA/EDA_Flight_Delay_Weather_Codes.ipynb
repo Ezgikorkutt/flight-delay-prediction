{
 "cells": [
  {
   "cell_type": "markdown",
   "id": "41c5837c",
   "metadata": {},
   "source": [
    "# ✈️ Flight Delay & Weather Data EDA\n",
    "This notebook explores the relationship between flight delays and weather conditions for JFK Airport in January 2023."
   ]
  },
  {
   "cell_type": "code",
   "execution_count": null,
   "id": "8f82b972",
   "metadata": {},
   "outputs": [],
   "source": [
    "import pandas as pd\n",
    "import matplotlib.pyplot as plt\n",
    "import seaborn as sns\n",
    "\n",
    "# Load the merged dataset\n",
    "df = pd.read_csv('data/merged_flight_weather_Jan2023.csv')\n"
   ]
  },
  {
   "cell_type": "markdown",
   "id": "333eb818",
   "metadata": {},
   "source": [
    "## 📊 Distribution of Departure Delays"
   ]
  },
  {
   "cell_type": "code",
   "execution_count": null,
   "id": "32dd6465",
   "metadata": {},
   "outputs": [],
   "source": [
    "# Filter delays for better visualization\n",
    "df_filtered = df[df['Departure delay (Minutes)'].between(-20, 200)]\n",
    "\n",
    "# Plot histogram\n",
    "plt.figure(figsize=(10,6))\n",
    "plt.hist(df_filtered['Departure delay (Minutes)'], bins=30, edgecolor='black', color='orange')\n",
    "plt.title('Distribution of Departure Delays')\n",
    "plt.xlabel('Delay (Minutes)')\n",
    "plt.ylabel('Number of Flights')\n",
    "plt.grid(True)\n",
    "plt.show()\n"
   ]
  },
  {
   "cell_type": "markdown",
   "id": "06882da9",
   "metadata": {},
   "source": [
    "## 📊 Boxplot of Departure Delays"
   ]
  },
  {
   "cell_type": "code",
   "execution_count": null,
   "id": "e7995576",
   "metadata": {},
   "outputs": [],
   "source": [
    "plt.figure(figsize=(8,6))\n",
    "sns.boxplot(x=df['Departure delay (Minutes)'])\n",
    "plt.title('Boxplot of Departure Delays')\n",
    "plt.xlabel('Delay (Minutes)')\n",
    "plt.show()\n"
   ]
  },
  {
   "cell_type": "markdown",
   "id": "b601d6de",
   "metadata": {},
   "source": [
    "## 🌡️ Average Daily Temperature"
   ]
  },
  {
   "cell_type": "code",
   "execution_count": null,
   "id": "2174cff5",
   "metadata": {},
   "outputs": [],
   "source": [
    "df['DATE'] = pd.to_datetime(df['Date'])\n",
    "daily_temp = df.groupby('DATE')['TAVG'].mean()\n",
    "\n",
    "plt.figure(figsize=(12,6))\n",
    "daily_temp.plot(marker='o')\n",
    "plt.title('Average Daily Temperature - January 2023')\n",
    "plt.xlabel('Date')\n",
    "plt.ylabel('Temperature (°F)')\n",
    "plt.grid(True)\n",
    "plt.show()\n"
   ]
  },
  {
   "cell_type": "markdown",
   "id": "b982bff4",
   "metadata": {},
   "source": [
    "## 🌧️ Rainy and Snowy Days Count"
   ]
  },
  {
   "cell_type": "code",
   "execution_count": null,
   "id": "c2c5f95d",
   "metadata": {},
   "outputs": [],
   "source": [
    "rainy_days = df['WT02'].sum()\n",
    "snowy_days = df['WT03'].sum()\n",
    "\n",
    "plt.bar(['Rainy Days', 'Snowy Days'], [rainy_days, snowy_days], color=['blue', 'gray'])\n",
    "plt.title('Number of Rainy and Snowy Days in January 2023')\n",
    "plt.ylabel('Days')\n",
    "plt.show()\n"
   ]
  },
  {
   "cell_type": "markdown",
   "id": "6201a886",
   "metadata": {},
   "source": [
    "## ☔ Impact of Rain on Departure Delays"
   ]
  },
  {
   "cell_type": "code",
   "execution_count": null,
   "id": "a0d578b9",
   "metadata": {},
   "outputs": [],
   "source": [
    "df['Rain'] = df['WT02'].fillna(0)\n",
    "plt.figure(figsize=(8,6))\n",
    "sns.boxplot(x=df['Rain'], y=df['Departure delay (Minutes)'])\n",
    "plt.title('Departure Delays on Rainy vs. Clear Days')\n",
    "plt.xlabel('Rainy Day (1=Yes, 0=No)')\n",
    "plt.ylabel('Departure Delay (Minutes)')\n",
    "plt.show()\n"
   ]
  },
  {
   "cell_type": "markdown",
   "id": "22c4c578",
   "metadata": {},
   "source": [
    "## 🌧️ Precipitation vs. Departure Delay"
   ]
  },
  {
   "cell_type": "code",
   "execution_count": null,
   "id": "952dbf59",
   "metadata": {},
   "outputs": [],
   "source": [
    "plt.figure(figsize=(8,6))\n",
    "plt.scatter(df['PRCP'], df['Departure delay (Minutes)'], alpha=0.5)\n",
    "plt.title('Precipitation vs. Departure Delay')\n",
    "plt.xlabel('Precipitation (inches)')\n",
    "plt.ylabel('Departure Delay (Minutes)')\n",
    "plt.show()\n"
   ]
  },
  {
   "cell_type": "markdown",
   "id": "85377aa2",
   "metadata": {},
   "source": [
    "## 🔥 Correlation Matrix"
   ]
  },
  {
   "cell_type": "code",
   "execution_count": null,
   "id": "4dcd1385",
   "metadata": {},
   "outputs": [],
   "source": [
    "plt.figure(figsize=(10,8))\n",
    "corr = df[['Departure delay (Minutes)', 'PRCP', 'TMAX', 'TMIN', 'AWND']].corr()\n",
    "sns.heatmap(corr, annot=True, cmap='coolwarm')\n",
    "plt.title('Correlation Matrix')\n",
    "plt.show()\n"
   ]
  }
 ],
 "metadata": {},
 "nbformat": 4,
 "nbformat_minor": 5
}
