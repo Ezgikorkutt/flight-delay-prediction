{
 "cells": [
  {
   "cell_type": "markdown",
   "id": "9eac4605",
   "metadata": {},
   "source": [
    "# 📊 Hypothesis Testing: Flight Delays and Weather Impact\n",
    "This notebook performs hypothesis testing to explore the impact of rain and precipitation on flight departure delays."
   ]
  },
  {
   "cell_type": "code",
   "execution_count": null,
   "id": "856e8be2",
   "metadata": {},
   "outputs": [],
   "source": [
    "import pandas as pd\n",
    "from scipy.stats import ttest_ind, pearsonr, spearmanr\n",
    "\n",
    "# Load merged dataset\n",
    "df = pd.read_csv('data/merged_flight_weather_Jan2023.csv')\n"
    "df.head()"
   ]
  },
  {
   "cell_type": "markdown",
   "id": "63c243ad",
   "metadata": {},
   "source": [
    "## 🚨 T-Test: Rainy Days vs. Clear Days"
   ]
  },
  {
   "cell_type": "code",
   "execution_count": null,
   "id": "03fd360a",
   "metadata": {},
   "outputs": [],
   "source": [
    "# Separate delays for rainy and clear days\n",
    "rainy_days_delays = df[df['WT02'] == 1]['Departure delay (Minutes)'].dropna()\n",
    "clear_days_delays = df[df['WT02'].isna()]['Departure delay (Minutes)'].dropna()\n",
    "\n",
    "# Perform two-sample t-test\n",
    "t_stat, p_value = ttest_ind(rainy_days_delays, clear_days_delays, equal_var=False)\n",
    "\n",
    "print(f\"T-Test Results:\\nT-Statistic: {t_stat:.3f}, P-Value: {p_value:.3f}\")\n",
    "\n",
    "if p_value < 0.05:\n",
    "    print(\"Conclusion: Significant difference in delays between rainy and clear days.\")\n",
    "else:\n",
    "    print(\"Conclusion: No significant difference in delays between rainy and clear days.\")\n"
   ]
  },
  {
   "cell_type": "markdown",
   "id": "d8deea43",
   "metadata": {},
   "source": [
    "## 🔗 Correlation Analysis: Precipitation vs. Departure Delay"
   ]
  },
  {
   "cell_type": "code",
   "execution_count": null,
   "id": "b85fceb9",
   "metadata": {},
   "outputs": [],
   "source": [
    "# Pearson Correlation (linear relationship)\n",
    "pearson_corr, pearson_p = pearsonr(df['PRCP'].fillna(0), df['Departure delay (Minutes)'].fillna(0))\n",
    "print(f\"Pearson Correlation: {pearson_corr:.3f}, P-Value: {pearson_p:.3f}\")\n",
    "\n",
    "# Spearman Correlation (monotonic relationship)\n",
    "spearman_corr, spearman_p = spearmanr(df['PRCP'].fillna(0), df['Departure delay (Minutes)'].fillna(0))\n",
    "print(f\"Spearman Correlation: {spearman_corr:.3f}, P-Value: {spearman_p:.3f}\")\n"
   ]
  }
 ],
 "metadata": {},
 "nbformat": 4,
 "nbformat_minor": 5
}
